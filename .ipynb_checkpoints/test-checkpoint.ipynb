{
 "cells": [
  {
   "cell_type": "code",
   "execution_count": 51,
   "metadata": {
    "collapsed": false
   },
   "outputs": [],
   "source": [
    "def calc_pearsonr(arr1 ,arr2):\n",
    "    if len(arr1) != len(arr2):\n",
    "        print('Unequal length')\n",
    "        return False, False\n",
    "    arr_no_none1 = []\n",
    "    arr_no_none2 = []\n",
    "    for index in range(len(arr1)):\n",
    "        if arr1[index] == None or arr2[index] == None:\n",
    "            continue\n",
    "        arr_no_none1.append(arr1[index])\n",
    "        arr_no_none2.append(arr2[index])\n",
    "\n",
    "    if len(arr_no_none1) <= 1 or len(arr_no_none2) <= 1:\n",
    "        return False, False\n",
    "    # print(arr_no_none1, arr_no_none2)\n",
    "    return pearsonr(arr_no_none1, arr_no_none2)\n"
   ]
  },
  {
   "cell_type": "code",
   "execution_count": 348,
   "metadata": {
    "collapsed": false
   },
   "outputs": [
    {
     "name": "stdout",
     "output_type": "stream",
     "text": [
      "(0.79494330157472826, 8.2243779591206619e-111)\n",
      "(-0.39222696631804549, 6.0288398239718308e-20)\n",
      "(-0.36223788117988642, 4.837758872053406e-17)\n",
      "(-0.21694644678070069, 9.0097746057279376e-07)\n",
      "(0.28014683015960445, 1.5958429780311899e-10)\n",
      "(0.67454925691838796, 4.850124971206036e-68)\n"
     ]
    }
   ],
   "source": [
    "import numpy as np\n",
    "from matplotlib import pyplot as plt\n",
    "from scipy.stats.stats import pearsonr\n",
    "%matplotlib inline\n",
    "X = []\n",
    "Y = []\n",
    "with open('data/results_w_values.csv', 'r') as input:\n",
    "    schema_line = input.readline()\n",
    "    schemas = schema_line.split(',')\n",
    "    schemas = [schema.strip() for schema in schemas]\n",
    "    data_list = [[] for schema in schemas]\n",
    "    item_line = input.readline()\n",
    "    while item_line:\n",
    "        items = item_line.split(',')\n",
    "        items = [item.strip() for item in items]\n",
    "        for index in range(len(schemas)):\n",
    "            _value = float(items[index]) if index >= 1 else items[index]\n",
    "            data_list[index].append(_value)\n",
    "        X.append([float(item) / 100 for item in items[7:]])\n",
    "        Y.append(float(items[6]) / 2000)\n",
    "        \n",
    "        item_line = input.readline()\n",
    "\n",
    "    rank = [index for index in range(len(data_list[0]))]\n",
    "    scores = data_list[6]\n",
    "    features = data_list[7:]\n",
    "    for feature in features:\n",
    "        result = calc_pearsonr(scores, feature)\n",
    "        print(result)\n",
    "    result = calc_pearsonr(rank, feature)\n"
   ]
  },
  {
   "cell_type": "code",
   "execution_count": 377,
   "metadata": {
    "collapsed": false
   },
   "outputs": [],
   "source": [
    "with open('data/results_w_values.csv', 'r') as input:\n",
    "    schema_line = input.readline()\n",
    "    schemas = schema_line.split(',')\n",
    "    schemas = [schema.strip() for schema in schemas]\n",
    "    raw_X = []\n",
    "    raw_Y = []\n",
    "    item_line = input.readline()\n",
    "    while item_line:\n",
    "        items = item_line.split(',')\n",
    "        items = [item.strip() for item in items]\n",
    "        sms = schemas[7:]\n",
    "        values = [float(item) for item in items[7:12]]\n",
    "        raw_X.append(values)\n",
    "        raw_Y.append(float(items[6]) )\n",
    "        item_line = input.readline()\n"
   ]
  },
  {
   "cell_type": "code",
   "execution_count": 378,
   "metadata": {
    "collapsed": false
   },
   "outputs": [
    {
     "name": "stdout",
     "output_type": "stream",
     "text": [
      "1889.8171775920255 142.16620179797013\n",
      "[36.560764, 0.0, 14.239583, 4.834491, 24.465279] 1889.8171775920255\n"
     ]
    }
   ],
   "source": [
    "max_y = max(raw_Y)\n",
    "min_y = min(raw_Y)\n",
    "print(max_y, min_y)\n",
    "# Y = [(y - min_y) / (max_y - min_y) for y in raw_Y]\n",
    "# X = [[x / 100 for x in x_arr] for x_arr in raw_X]\n",
    "X = raw_X\n",
    "Y = raw_Y\n",
    "print(X[0], Y[0])"
   ]
  },
  {
   "cell_type": "code",
   "execution_count": 380,
   "metadata": {
    "collapsed": false
   },
   "outputs": [
    {
     "name": "stdout",
     "output_type": "stream",
     "text": [
      "[[  1.00000000e+00  -1.18277660e-16   1.12574747e-16  -1.45445899e-17\n",
      "    2.52279419e-16]\n",
      " [  1.28017263e-16   1.00000000e+00   5.04205290e-16   6.22244008e-17\n",
      "   -1.04134208e-16]\n",
      " [  2.02503189e-16   2.39241871e-16   1.00000000e+00  -5.65707383e-17\n",
      "    2.48712539e-16]\n",
      " [ -3.34786511e-16  -3.77528017e-17  -1.67940742e-16   1.00000000e+00\n",
      "    4.50158948e-16]\n",
      " [  7.02797755e-16   3.60020625e-16   5.01028393e-16  -3.80817625e-16\n",
      "    1.00000000e+00]]\n"
     ]
    }
   ],
   "source": [
    "l_reg = linear_model.LinearRegression()\n",
    "l_reg.fit(raw_X, raw_X)\n",
    "print(l_reg.coef_)"
   ]
  },
  {
   "cell_type": "code",
   "execution_count": 376,
   "metadata": {
    "collapsed": false
   },
   "outputs": [
    {
     "data": {
      "text/plain": [
       "array([-10.00005384, -23.56152192, -23.24371132, -20.94092644, -20.83789669])"
      ]
     },
     "execution_count": 376,
     "metadata": {},
     "output_type": "execute_result"
    }
   ],
   "source": [
    "las_reg = linear_model.Lasso(alpha =0.1 , max_iter = 150000)\n",
    "las_reg.fit(X, Y)\n",
    "las_reg.coef_"
   ]
  },
  {
   "cell_type": "code",
   "execution_count": null,
   "metadata": {
    "collapsed": false
   },
   "outputs": [],
   "source": []
  },
  {
   "cell_type": "code",
   "execution_count": 359,
   "metadata": {
    "collapsed": false
   },
   "outputs": [
    {
     "data": {
      "text/plain": [
       "array([  6.4197148 ,  -7.13380357,  -6.81712915,  -4.52528277,\n",
       "        -4.4180765 ,  16.47127133])"
      ]
     },
     "execution_count": 359,
     "metadata": {},
     "output_type": "execute_result"
    }
   ],
   "source": [
    "from sklearn import linear_model\n",
    "reg = linear_model.Ridge(alpha=1)\n",
    "reg.fit(X, Y)  \n",
    "                                   \n",
    "reg.coef_"
   ]
  },
  {
   "cell_type": "code",
   "execution_count": 360,
   "metadata": {
    "collapsed": false
   },
   "outputs": [
    {
     "data": {
      "text/plain": [
       "array([ 12.23814835,   0.        ,   0.        ,   0.        ,\n",
       "         0.60847722,  21.82988512])"
      ]
     },
     "execution_count": 360,
     "metadata": {},
     "output_type": "execute_result"
    }
   ],
   "source": [
    "from sklearn import linear_model\n",
    "reg = linear_model.LassoLars(alpha=1)\n",
    "reg.fit(X, Y)\n",
    "reg.coef_"
   ]
  },
  {
   "cell_type": "code",
   "execution_count": null,
   "metadata": {
    "collapsed": true
   },
   "outputs": [],
   "source": []
  },
  {
   "cell_type": "code",
   "execution_count": null,
   "metadata": {
    "collapsed": true
   },
   "outputs": [],
   "source": []
  },
  {
   "cell_type": "code",
   "execution_count": null,
   "metadata": {
    "collapsed": true
   },
   "outputs": [],
   "source": []
  },
  {
   "cell_type": "code",
   "execution_count": null,
   "metadata": {
    "collapsed": true
   },
   "outputs": [],
   "source": []
  }
 ],
 "metadata": {
  "kernelspec": {
   "display_name": "Python 3",
   "language": "python",
   "name": "python3"
  },
  "language_info": {
   "codemirror_mode": {
    "name": "ipython",
    "version": 3
   },
   "file_extension": ".py",
   "mimetype": "text/x-python",
   "name": "python",
   "nbconvert_exporter": "python",
   "pygments_lexer": "ipython3",
   "version": "3.6.0"
  }
 },
 "nbformat": 4,
 "nbformat_minor": 2
}
